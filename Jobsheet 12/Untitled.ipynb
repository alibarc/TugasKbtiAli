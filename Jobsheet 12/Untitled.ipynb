{
 "cells": [
  {
   "cell_type": "code",
   "execution_count": 1,
   "id": "d71f646e",
   "metadata": {},
   "outputs": [],
   "source": [
    "# Inputs of the equation.\n",
    "equation_inputs = [4,-2,3.5,5,-11,-4.7]\n",
    "# Number of the weights we are looking to optimize.\n",
    "num_weights = 6"
   ]
  },
  {
   "cell_type": "code",
   "execution_count": 6,
   "id": "764f9665",
   "metadata": {},
   "outputs": [
    {
     "ename": "SyntaxError",
     "evalue": "invalid syntax (<ipython-input-6-01098198ac40>, line 1)",
     "output_type": "error",
     "traceback": [
      "\u001b[1;36m  File \u001b[1;32m\"<ipython-input-6-01098198ac40>\"\u001b[1;36m, line \u001b[1;32m1\u001b[0m\n\u001b[1;33m    import numpysol_per_pop = 8\u001b[0m\n\u001b[1;37m                            ^\u001b[0m\n\u001b[1;31mSyntaxError\u001b[0m\u001b[1;31m:\u001b[0m invalid syntax\n"
     ]
    }
   ],
   "source": [
    "import numpysol_per_pop = 8"
   ]
  },
  {
   "cell_type": "code",
   "execution_count": 3,
   "id": "a8548431",
   "metadata": {},
   "outputs": [
    {
     "ename": "SyntaxError",
     "evalue": "invalid syntax (<ipython-input-3-810f3c2a38f3>, line 1)",
     "output_type": "error",
     "traceback": [
      "\u001b[1;36m  File \u001b[1;32m\"<ipython-input-3-810f3c2a38f3>\"\u001b[1;36m, line \u001b[1;32m1\u001b[0m\n\u001b[1;33m    import numpysol_per_pop = 8# Defining the population size.\u001b[0m\n\u001b[1;37m                            ^\u001b[0m\n\u001b[1;31mSyntaxError\u001b[0m\u001b[1;31m:\u001b[0m invalid syntax\n"
     ]
    }
   ],
   "source": [
    "import numpysol_per_pop = 8# Defining the population size.\n",
    "pop_size = (sol_per_pop,num_weights) # The population will have sol_per_pop\n",
    "chromosome where each chromosome has num_weights genes.\n",
    "#Creating the initial population.\n",
    "new_population = numpy.random.uniform(low=-4.0, high=4.0, size=pop_size)\n"
   ]
  },
  {
   "cell_type": "code",
   "execution_count": null,
   "id": "b21f93c5",
   "metadata": {},
   "outputs": [],
   "source": []
  }
 ],
 "metadata": {
  "kernelspec": {
   "display_name": "Python 3",
   "language": "python",
   "name": "python3"
  },
  "language_info": {
   "codemirror_mode": {
    "name": "ipython",
    "version": 3
   },
   "file_extension": ".py",
   "mimetype": "text/x-python",
   "name": "python",
   "nbconvert_exporter": "python",
   "pygments_lexer": "ipython3",
   "version": "3.8.8"
  }
 },
 "nbformat": 4,
 "nbformat_minor": 5
}
