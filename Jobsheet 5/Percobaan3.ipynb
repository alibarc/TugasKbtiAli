{
 "cells": [
  {
   "cell_type": "code",
   "execution_count": 13,
   "id": "b1bb53f4",
   "metadata": {},
   "outputs": [],
   "source": [
    "from operator import itemgetter, attrgetter"
   ]
  },
  {
   "cell_type": "code",
   "execution_count": 14,
   "id": "9d3540a3",
   "metadata": {},
   "outputs": [],
   "source": [
    "w = [3,4,1,7,6,8,9]\n",
    "p = [4,5,2,5,5,8,11]\n",
    "item = [[3,4],[4,5],[1,2],[7,5],[6,5],[8,8],[9,11]]"
   ]
  },
  {
   "cell_type": "code",
   "execution_count": 15,
   "id": "daca546c",
   "metadata": {},
   "outputs": [],
   "source": [
    "i = 0\n",
    "while i < len(item):\n",
    "    hasil = item[i][1]/item[i][0]\n",
    "    item[i].append(hasil)\n",
    "    i += 1"
   ]
  },
  {
   "cell_type": "code",
   "execution_count": 16,
   "id": "db1ece6e",
   "metadata": {},
   "outputs": [],
   "source": [
    "data = sorted(item,key=itemgetter(2),reverse=True)"
   ]
  },
  {
   "cell_type": "code",
   "execution_count": 20,
   "id": "65003bc6",
   "metadata": {},
   "outputs": [],
   "source": [
    "def knapsack(data,cap,flag):\n",
    "    total=0\n",
    "    tres=\"\"\n",
    "    if(flag==0):\n",
    "        dataS = sorted(data,key=itemgetter(flag), reverse = True)\n",
    "        tres=\"bobot prioritas: \"\n",
    "    elif(flag==1):\n",
    "        dataS = sorted(data,key=itemgetter(flag), reverse = True)\n",
    "        tres=\"keuntungan prioritas: \"\n",
    "    elif(flag==2):\n",
    "        dataS = sorted(data,key=itemgetter(flag), reverse = True)\n",
    "        tres=\"p prioritas : \"\n",
    "    else:\n",
    "        return \"Error\"\n",
    "    \n",
    "    j=0\n",
    "    hasil=0\n",
    "    #print(\"sini\")\n",
    "    cek=0\n",
    "    weight=0\n",
    "    while(j<len(dataS)):\n",
    "        \n",
    "        if(cek+dataS[j][0]<=cap):\n",
    "            hasil=hasil+dataS[j][1]\n",
    "            weight=weight+dataS[j][0]\n",
    "            print(dataS[j][0])\n",
    "        cek=weight\n",
    "        j+=1;\n",
    "        #print(\"here\")\n",
    "    return(\"Optimal dalam \"+str(tres)+str(hasil))"
   ]
  },
  {
   "cell_type": "code",
   "execution_count": 21,
   "id": "6da9d9ea",
   "metadata": {},
   "outputs": [
    {
     "name": "stdout",
     "output_type": "stream",
     "text": [
      "9\n",
      "8\n",
      "3\n",
      "Optimal dalam bobot prioritas: 23\n",
      "9\n",
      "8\n",
      "3\n",
      "Optimal dalam keuntungan prioritas: 23\n",
      "1\n",
      "3\n",
      "4\n",
      "9\n",
      "Optimal dalam p prioritas : 22\n"
     ]
    }
   ],
   "source": [
    "print(knapsack(item,20,0))\n",
    "print(knapsack(item,20,1))\n",
    "print(knapsack(item,20,2))"
   ]
  },
  {
   "cell_type": "code",
   "execution_count": null,
   "id": "593e5ffc",
   "metadata": {},
   "outputs": [],
   "source": []
  }
 ],
 "metadata": {
  "kernelspec": {
   "display_name": "Python 3",
   "language": "python",
   "name": "python3"
  },
  "language_info": {
   "codemirror_mode": {
    "name": "ipython",
    "version": 3
   },
   "file_extension": ".py",
   "mimetype": "text/x-python",
   "name": "python",
   "nbconvert_exporter": "python",
   "pygments_lexer": "ipython3",
   "version": "3.8.8"
  }
 },
 "nbformat": 4,
 "nbformat_minor": 5
}
