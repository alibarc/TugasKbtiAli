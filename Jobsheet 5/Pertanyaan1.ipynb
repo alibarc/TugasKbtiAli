{
 "cells": [
  {
   "cell_type": "code",
   "execution_count": 1,
   "source": [
    "Route = {\r\n",
    "    'A': {'B' : 1,'C' : 3,'D' : 7},\r\n",
    "    'B': {'D' : 5},\r\n",
    "    'C': {'D': 12}\r\n",
    "}"
   ],
   "outputs": [],
   "metadata": {}
  },
  {
   "cell_type": "code",
   "execution_count": 2,
   "source": [
    "def shortestPath(graph,start,end):\r\n",
    "    result = []\r\n",
    "    result.append(start)\r\n",
    "\r\n",
    "    while end not in result:\r\n",
    "        current_node = result[-1]\r\n",
    "        local_max = min(graph[current_node].values())\r\n",
    "        for node,weight in graph[current_node].items():\r\n",
    "            if weight == local_max:\r\n",
    "                result.append(node)\r\n",
    "    return result"
   ],
   "outputs": [],
   "metadata": {}
  },
  {
   "cell_type": "code",
   "execution_count": 3,
   "source": [
    "shortestPath(Route,'A','D')"
   ],
   "outputs": [
    {
     "output_type": "execute_result",
     "data": {
      "text/plain": [
       "['A', 'B', 'D']"
      ]
     },
     "metadata": {},
     "execution_count": 3
    }
   ],
   "metadata": {}
  }
 ],
 "metadata": {
  "kernelspec": {
   "name": "python3",
   "display_name": "Python 3.8.8 64-bit ('base': conda)"
  },
  "language_info": {
   "codemirror_mode": {
    "name": "ipython",
    "version": 3
   },
   "file_extension": ".py",
   "mimetype": "text/x-python",
   "name": "python",
   "nbconvert_exporter": "python",
   "pygments_lexer": "ipython3",
   "version": "3.8.8"
  },
  "interpreter": {
   "hash": "062274e7162bb420c99cc7ca51c80b3d41f6466fb46f2923fcfecd2b904f14af"
  }
 },
 "nbformat": 4,
 "nbformat_minor": 5
}