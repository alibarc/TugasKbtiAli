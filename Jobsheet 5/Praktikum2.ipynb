{
 "cells": [
  {
   "cell_type": "code",
   "execution_count": 1,
   "id": "6d6aa4b2",
   "metadata": {},
   "outputs": [],
   "source": [
    "DAG = {'A':{'C':4,'G':9},\n",
    "    'G':{'E':6},\n",
    "    'C':{'D':6,'H':12},\n",
    "    'D':{'E':7},\n",
    "    'H':{'F':15},\n",
    "    'E':{'F':8},\n",
    "    'F':{'B':5}}"
   ]
  },
  {
   "cell_type": "code",
   "execution_count": 2,
   "id": "f35b30d6",
   "metadata": {},
   "outputs": [],
   "source": [
    "def shortest_path(graph,start,end):\n",
    "    result = []\n",
    "    result.append(start)\n",
    "\n",
    "    while end not in result:\n",
    "        current_node = result[-1]\n",
    "        local_max = min(graph[current_node].values())\n",
    "        for node,weight in graph[current_node].items():\n",
    "            if weight == local_max:\n",
    "                result.append(node)\n",
    "    return result"
   ]
  },
  {
   "cell_type": "code",
   "execution_count": 4,
   "id": "bf1069d7",
   "metadata": {},
   "outputs": [
    {
     "data": {
      "text/plain": [
       "['A', 'C', 'D', 'E', 'F']"
      ]
     },
     "execution_count": 4,
     "metadata": {},
     "output_type": "execute_result"
    }
   ],
   "source": [
    "shortest_path(DAG,'A','F')"
   ]
  }
 ],
 "metadata": {
  "kernelspec": {
   "display_name": "Python 3",
   "language": "python",
   "name": "python3"
  },
  "language_info": {
   "codemirror_mode": {
    "name": "ipython",
    "version": 3
   },
   "file_extension": ".py",
   "mimetype": "text/x-python",
   "name": "python",
   "nbconvert_exporter": "python",
   "pygments_lexer": "ipython3",
   "version": "3.8.8"
  }
 },
 "nbformat": 4,
 "nbformat_minor": 5
}
